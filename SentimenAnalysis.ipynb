{
  "nbformat": 4,
  "nbformat_minor": 0,
  "metadata": {
    "colab": {
      "provenance": [],
      "authorship_tag": "ABX9TyMEjzjJCkWC0No5mr1x0kS5",
      "include_colab_link": true
    },
    "kernelspec": {
      "name": "python3",
      "display_name": "Python 3"
    },
    "language_info": {
      "name": "python"
    }
  },
  "cells": [
    {
      "cell_type": "markdown",
      "metadata": {
        "id": "view-in-github",
        "colab_type": "text"
      },
      "source": [
        "<a href=\"https://colab.research.google.com/github/pikijhon/Analisys_Big_Data/blob/main/SentimenAnalysis.ipynb\" target=\"_parent\"><img src=\"https://colab.research.google.com/assets/colab-badge.svg\" alt=\"Open In Colab\"/></a>"
      ]
    },
    {
      "cell_type": "code",
      "execution_count": 2,
      "metadata": {
        "id": "Y_EheJRHv2X0"
      },
      "outputs": [],
      "source": [
        "import tweepy"
      ]
    },
    {
      "cell_type": "code",
      "source": [
        "api_key = \"53w9yqgU0hViZGVw1uUurxxRX\"\n",
        "api_secret_key = \"pNp3dlctdUFHxlFy6ZpajRtjwK7QWLCAhUd6K0xx0iNeSN60dH\"\n",
        "access_token = \"1131225589514248193-nwalg12uI1xrBzoUkIGEbR7tHubVBX\"\n",
        "access_token_secret = \"ZUZ7bVQvNYuMRBAEbxzYMLq6hMxcmzageEw7ce6yOXJY8\""
      ],
      "metadata": {
        "id": "_62ZcfUk2Hei"
      },
      "execution_count": 3,
      "outputs": []
    },
    {
      "cell_type": "code",
      "source": [
        "auth = tweepy.OAuthHandler(api_key, api_secret_key)\n",
        "auth.set_access_token(access_token, access_token_secret)\n",
        "api = tweepy.API(auth)"
      ],
      "metadata": {
        "id": "fzX0_8C73ICj"
      },
      "execution_count": 4,
      "outputs": []
    },
    {
      "cell_type": "code",
      "source": [
        "hasilSearch = api.search(q='jakarta', count=10)\n"
      ],
      "metadata": {
        "colab": {
          "base_uri": "https://localhost:8080/",
          "height": 179
        },
        "id": "JtllU8eS3mkc",
        "outputId": "57c0d24d-533a-4e87-bfa9-62a621c812d7"
      },
      "execution_count": 6,
      "outputs": [
        {
          "output_type": "error",
          "ename": "AttributeError",
          "evalue": "ignored",
          "traceback": [
            "\u001b[0;31m---------------------------------------------------------------------------\u001b[0m",
            "\u001b[0;31mAttributeError\u001b[0m                            Traceback (most recent call last)",
            "\u001b[0;32m<ipython-input-6-c8a1a64466a4>\u001b[0m in \u001b[0;36m<cell line: 1>\u001b[0;34m()\u001b[0m\n\u001b[0;32m----> 1\u001b[0;31m \u001b[0mhasilSearch\u001b[0m \u001b[0;34m=\u001b[0m \u001b[0mapi\u001b[0m\u001b[0;34m.\u001b[0m\u001b[0msearch\u001b[0m\u001b[0;34m(\u001b[0m\u001b[0mq\u001b[0m\u001b[0;34m=\u001b[0m\u001b[0;34m'jakarta'\u001b[0m\u001b[0;34m,\u001b[0m \u001b[0mcount\u001b[0m\u001b[0;34m=\u001b[0m\u001b[0;36m10\u001b[0m\u001b[0;34m)\u001b[0m\u001b[0;34m\u001b[0m\u001b[0;34m\u001b[0m\u001b[0m\n\u001b[0m",
            "\u001b[0;31mAttributeError\u001b[0m: 'API' object has no attribute 'search'"
          ]
        }
      ]
    },
    {
      "cell_type": "code",
      "source": [
        "hasilAnalisis = []\n",
        "\n",
        "for tweet in hasilSearch:\n",
        "  tweet_properties = {}\n",
        "  tweet_properties[\"tanggal_tweet\"] = tweet.create_at\n",
        "  tweet_properties[\"pengguna\"] = tweet.user_name\n",
        "  tweet_properties[\"isi_tweet\"] = tweet.text\n",
        "  tweet_bersih = ' '.join(re.sub(\"(@[A-Za-z0-9]+)|([^0-9A-Za-z \\t])|(\\w+:\\/\\/\\S+)\",\" \",x).split())\n",
        "\n",
        "  analysis = TextBlob(tweet_bersih)\n",
        "\n",
        "  if analysis.sentimen.polarity > 0.0:\n",
        "    tweet_properties[\"sentimen\"] = \"positif\"\n",
        "  else analysis.sentimen.polarity == 0.0:\n",
        "    tweet_properties[\"sentimen\"] = \"netral\"\n",
        "  else\n",
        "    tweet_properties[\"sentimen\"] = \"negatif\"\n",
        "\n",
        "    if tweet.retweet_count >0:\n",
        "      if tweet_properties not in hasilAnalisis:\n",
        "        hasilAnalisis.append(tweet_properties)\n",
        "    else\n",
        "      hasilAnalisis.append(tweet_properties)"
      ],
      "metadata": {
        "id": "jxqfDXjAuP1g"
      },
      "execution_count": null,
      "outputs": []
    },
    {
      "cell_type": "code",
      "source": [
        "tweet_positif = [t for t in hasilAnalisis if t[\"sentimen\"]==\"positif\"]\n",
        "tweet_positif = [t for t in hasilAnalisis if t[\"sentimen\"]==\"netral\"]\n",
        "tweet_positif = [t for t in hasilAnalisis if t[\"sentimen\"]==\"negatif\"]"
      ],
      "metadata": {
        "id": "MtBwRyyQww95"
      },
      "execution_count": null,
      "outputs": []
    },
    {
      "cell_type": "code",
      "source": [
        "print(\"Hasil Sentimen\")\n",
        "Print(\"positif: \", len(tweet_positif), \"({}%)\".format(100*len(tweet_positif)/len(hasilAnalisis)))\n",
        "Print(\"netral: \", len(tweet_netral), \"({}%)\".format(100*len(tweet_netral)/len(hasilAnalisis)))\n",
        "Print(\"negatif: \", len(tweet_negatif), \"({}%)\".format(100*len(tweet_negatif)/len(hasilAnalisis)))"
      ],
      "metadata": {
        "colab": {
          "base_uri": "https://localhost:8080/",
          "height": 143
        },
        "id": "Q_bRk2ffxIyz",
        "outputId": "e06999e4-a6c1-4ae1-c44b-c32a1ebcced6"
      },
      "execution_count": 7,
      "outputs": [
        {
          "output_type": "error",
          "ename": "SyntaxError",
          "evalue": "ignored",
          "traceback": [
            "\u001b[0;36m  File \u001b[0;32m\"<ipython-input-7-4c777f8b4704>\"\u001b[0;36m, line \u001b[0;32m1\u001b[0m\n\u001b[0;31m    print(:)\u001b[0m\n\u001b[0m          ^\u001b[0m\n\u001b[0;31mSyntaxError\u001b[0m\u001b[0;31m:\u001b[0m invalid syntax\n"
          ]
        }
      ]
    },
    {
      "cell_type": "code",
      "source": [],
      "metadata": {
        "id": "GPYgpVN8xnRw"
      },
      "execution_count": null,
      "outputs": []
    },
    {
      "cell_type": "code",
      "source": [],
      "metadata": {
        "id": "JBkjFJG1xOAT"
      },
      "execution_count": null,
      "outputs": []
    },
    {
      "cell_type": "code",
      "source": [],
      "metadata": {
        "id": "etEYc8jjyTO4"
      },
      "execution_count": null,
      "outputs": []
    }
  ]
}